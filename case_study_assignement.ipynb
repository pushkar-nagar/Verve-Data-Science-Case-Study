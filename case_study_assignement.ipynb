{
 "cells": [
  {
   "cell_type": "code",
   "execution_count": 1,
   "id": "530424c6-c78f-4970-9ee3-a90012d7e779",
   "metadata": {},
   "outputs": [],
   "source": [
    "import pandas as pd\n"
   ]
  },
  {
   "cell_type": "code",
   "execution_count": 2,
   "id": "28a916dd-349a-4415-9033-8ebb1700eb76",
   "metadata": {},
   "outputs": [],
   "source": [
    "data = [\n",
    "{\"app\": \"A\", \"bid_price\": 0.01, \"win\": 0, \"events\": 100000}, \n",
    "{\"app\": \"A\", \"bid_price\": 0.01, \"win\": 1, \"events\": 0}, \n",
    "{\"app\": \"A\", \"bid_price\": 0.1, \"win\": 0, \"events\": 7000}, \n",
    "{\"app\": \"A\", \"bid_price\": 0.1, \"win\": 1, \"events\": 3000}, \n",
    "{\"app\": \"A\", \"bid_price\": 0.2, \"win\": 0, \"events\": 8000000}, \n",
    "{\"app\": \"A\", \"bid_price\": 0.2, \"win\": 1, \"events\": 2000000}, \n",
    "{\"app\": \"A\", \"bid_price\": 0.4, \"win\": 0, \"events\": 700000}, \n",
    "{\"app\": \"A\", \"bid_price\": 0.4, \"win\": 1, \"events\": 300000}, \n",
    "{\"app\": \"A\", \"bid_price\": 0.5, \"win\": 0, \"events\": 80000}, \n",
    "{\"app\": \"A\", \"bid_price\": 0.5, \"win\": 1, \"events\": 20000}, \n",
    "{\"app\": \"A\", \"bid_price\": 0.75, \"win\": 0, \"events\": 7000}, \n",
    "{\"app\": \"A\", \"bid_price\": 0.75, \"win\": 1, \"events\": 3000}, \n",
    "{\"app\": \"A\", \"bid_price\": 1, \"win\": 0, \"events\": 400}, \n",
    "{\"app\": \"A\", \"bid_price\": 1, \"win\": 1, \"events\": 600}, \n",
    "{\"app\": \"A\", \"bid_price\": 2, \"win\": 0, \"events\": 30}, \n",
    "{\"app\": \"A\", \"bid_price\": 2, \"win\": 1, \"events\": 70}, \n",
    "{\"app\": \"A\", \"bid_price\": 5, \"win\": 0, \"events\": 2}, \n",
    "{\"app\": \"A\", \"bid_price\": 5, \"win\": 1, \"events\": 8}, \n",
    "{\"app\": \"A\", \"bid_price\": 9, \"win\": 0, \"events\": 0}, \n",
    "{\"app\": \"A\", \"bid_price\": 9, \"win\": 1, \"events\": 1}\n",
    "]\n",
    "\n",
    "df = pd.DataFrame(data)"
   ]
  },
  {
   "cell_type": "code",
   "execution_count": 3,
   "id": "696fd4c0-ad5d-4ef3-92a6-b9a493a6f059",
   "metadata": {},
   "outputs": [
    {
     "data": {
      "text/plain": [
       "<bound method NDFrame.head of    app  bid_price  win   events\n",
       "0    A       0.01    0   100000\n",
       "1    A       0.01    1        0\n",
       "2    A       0.10    0     7000\n",
       "3    A       0.10    1     3000\n",
       "4    A       0.20    0  8000000\n",
       "5    A       0.20    1  2000000\n",
       "6    A       0.40    0   700000\n",
       "7    A       0.40    1   300000\n",
       "8    A       0.50    0    80000\n",
       "9    A       0.50    1    20000\n",
       "10   A       0.75    0     7000\n",
       "11   A       0.75    1     3000\n",
       "12   A       1.00    0      400\n",
       "13   A       1.00    1      600\n",
       "14   A       2.00    0       30\n",
       "15   A       2.00    1       70\n",
       "16   A       5.00    0        2\n",
       "17   A       5.00    1        8\n",
       "18   A       9.00    0        0\n",
       "19   A       9.00    1        1>"
      ]
     },
     "execution_count": 3,
     "metadata": {},
     "output_type": "execute_result"
    }
   ],
   "source": [
    "df.head"
   ]
  },
  {
   "cell_type": "markdown",
   "id": "2a4e1784-e38b-4b75-b444-fd8c9a712094",
   "metadata": {},
   "source": [
    "### Basic Data Analysis"
   ]
  },
  {
   "cell_type": "code",
   "execution_count": 4,
   "id": "15b514fd-f7c4-4d9f-80c8-fce726cec0be",
   "metadata": {},
   "outputs": [
    {
     "name": "stdout",
     "output_type": "stream",
     "text": [
      "       bid_price        win        events\n",
      "count  20.000000  20.000000  2.000000e+01\n",
      "mean    1.896000   0.500000  5.610556e+05\n",
      "std     2.829812   0.512989  1.810805e+06\n",
      "min     0.010000   0.000000  0.000000e+00\n",
      "25%     0.200000   0.000000  2.450000e+01\n",
      "50%     0.625000   0.500000  3.000000e+03\n",
      "75%     2.000000   1.000000  8.500000e+04\n",
      "max     9.000000   1.000000  8.000000e+06\n",
      "Unique bid price values  : [0.01 0.1  0.2  0.4  0.5  0.75 1.   2.   5.   9.  ]\n"
     ]
    }
   ],
   "source": [
    "print(df.describe())\n",
    "print(\"Unique bid price values  :\", df['bid_price'].unique())"
   ]
  },
  {
   "cell_type": "markdown",
   "id": "d4d7a0e3-0224-47e5-ad91-79dff13bd366",
   "metadata": {},
   "source": [
    "- The 'bid_price' column has 10 different pricess which are more than 0.\n",
    "- The maximum event is 8000000 which belongs to 0.2 in bid_price.\n",
    "  "
   ]
  },
  {
   "cell_type": "markdown",
   "id": "f1be2327-0c91-423c-bad5-c71fc26fd3a2",
   "metadata": {},
   "source": [
    "### Problem 1\n",
    "Based on Table in above Scenario, estimate the expected win rate for a bid repsonse at a given price (prices are listed in table). State your assumptions clearly and provide the steps on how you arrived at your answer.\n",
    "\n",
    "- Expected win rate for a bid response at given price can be calculated as :\n",
    "\n",
    "$$\n",
    "number of succesfull events / total number of events\n",
    "$$"
   ]
  },
  {
   "cell_type": "code",
   "execution_count": 5,
   "id": "be2eb0d6-3bed-42ef-bbd2-9d9e3e08c770",
   "metadata": {},
   "outputs": [
    {
     "name": "stdout",
     "output_type": "stream",
     "text": [
      "  app  bid_price  win_rate\n",
      "0   A       0.01       0.0\n",
      "1   A       0.10       0.3\n",
      "2   A       0.20       0.2\n",
      "3   A       0.40       0.3\n",
      "4   A       0.50       0.2\n",
      "5   A       0.75       0.3\n",
      "6   A       1.00       0.6\n",
      "7   A       2.00       0.7\n",
      "8   A       5.00       0.8\n",
      "9   A       9.00       1.0\n"
     ]
    }
   ],
   "source": [
    "def calculateWinRate(df):\n",
    "\n",
    "    winratedf = pd.DataFrame(df[df['win'] == 1].groupby(['app', 'bid_price'])['events'].sum() / \n",
    "                    df.groupby(['app', 'bid_price'])['events'].sum()).reset_index().rename(columns = {'events': 'win_rate'})\n",
    "\n",
    "    return winratedf\n",
    "    \n",
    "# run the calculateWinRate function to calculate the win rate\n",
    "dfWinRate = calculateWinRate(df)\n",
    "dfWinRate\n",
    "print(dfWinRate)"
   ]
  },
  {
   "cell_type": "code",
   "execution_count": 6,
   "id": "27982763-1fac-4bf2-b227-9b87a7eed22f",
   "metadata": {},
   "outputs": [
    {
     "data": {
      "text/plain": [
       "Text(0, 0.5, 'win rate')"
      ]
     },
     "execution_count": 6,
     "metadata": {},
     "output_type": "execute_result"
    },
    {
     "data": {
      "image/png": "[encoded data removed]",
      "text/plain": [
       "<Figure size 640x480 with 1 Axes>"
      ]
     },
     "metadata": {},
     "output_type": "display_data"
    }
   ],
   "source": [
    "from matplotlib import pyplot as plt\n",
    "plt.plot(dfWinRate[\"bid_price\"], dfWinRate[\"win_rate\"])\n",
    "plt.xlabel(\"bid price\")\n",
    "plt.ylabel(\"win rate\")\n"
   ]
  },
  {
   "cell_type": "markdown",
   "id": "003452f3-5c2d-4e72-9bb2-5285df848d7c",
   "metadata": {},
   "source": [
    "### Problem 2\n",
    "We receive money from our advertisers if we deliver them a win. Lets say that our advertiser is willing to pay  0.50 per win.\n",
    "This then becomes the upper bound for the bid valuation that we can submit in response to the publisher. For example, if we submit a bid response of 0.40 and we win, then the advertiser pays us 0.50, we pay 0.40 to the publisher and we made a net revenue of $0.10 .\n",
    "\n",
    "If our goal was to maximize net revenue, what is the most optimal bid valuation we should send in our response? Use your estimations from Problem1 and all other available information.\n",
    "\n",
    "\n",
    "\n",
    "- For each win event we will be earning (revenue per win - bid price), we will use estimated win rate calculated in problem 1 to get net revenue per event(either win or loose).\n",
    "  \n",
    "$$\n",
    "Net Revenue = (revenue per win - bid price) * (succesfull win events) / (total events) * (total events)\n",
    "$$"
   ]
  },
  {
   "cell_type": "code",
   "execution_count": 7,
   "id": "07cf6144-387a-4620-a0ed-2d8fa8abb5da",
   "metadata": {},
   "outputs": [],
   "source": [
    "def calculateNetRevenue(df, revenue_per_bid = 0.50):\n",
    "\n",
    "    unique_bid_price = df[\"bid_price\"].unique()\n",
    "    result = list()\n",
    "\n",
    "    for bid_price in unique_bid_price:\n",
    "\n",
    "        df_ = df[df['bid_price'] == bid_price]\n",
    "\n",
    "        win_events = df_[df_['win'] == 1]['events'].sum()\n",
    "        total_events = df_['events'].sum()\n",
    "        \n",
    "        net_revenue = ((revenue_per_bid - bid_price) * win_events/total_events ) * total_events\n",
    "\n",
    "        result.append([bid_price, net_revenue, total_events])\n",
    "\n",
    "    return result\n",
    "\n",
    "\n",
    "\n",
    "# call calculateNetRevenue function to get net revenue for each bid price\n",
    "result  = calculateNetRevenue(df)\n",
    "result = pd.DataFrame(result, columns=['bid price', 'revenue', 'total events'])\n",
    "result = result.sort_values(by='revenue', ascending=False)\n"
   ]
  },
  {
   "cell_type": "code",
   "execution_count": 8,
   "id": "32c4fa68-6bbe-49c0-80c7-a18bb7f9321a",
   "metadata": {},
   "outputs": [
    {
     "data": {
      "text/html": [
       "<div>\n",
       "<style scoped>\n",
       "    .dataframe tbody tr th:only-of-type {\n",
       "        vertical-align: middle;\n",
       "    }\n",
       "\n",
       "    .dataframe tbody tr th {\n",
       "        vertical-align: top;\n",
       "    }\n",
       "\n",
       "    .dataframe thead th {\n",
       "        text-align: right;\n",
       "    }\n",
       "</style>\n",
       "<table border=\"1\" class=\"dataframe\">\n",
       "  <thead>\n",
       "    <tr style=\"text-align: right;\">\n",
       "      <th></th>\n",
       "      <th>bid price</th>\n",
       "      <th>revenue</th>\n",
       "      <th>total events</th>\n",
       "    </tr>\n",
       "  </thead>\n",
       "  <tbody>\n",
       "    <tr>\n",
       "      <th>2</th>\n",
       "      <td>0.20</td>\n",
       "      <td>600000.0</td>\n",
       "      <td>10000000</td>\n",
       "    </tr>\n",
       "    <tr>\n",
       "      <th>3</th>\n",
       "      <td>0.40</td>\n",
       "      <td>30000.0</td>\n",
       "      <td>1000000</td>\n",
       "    </tr>\n",
       "    <tr>\n",
       "      <th>1</th>\n",
       "      <td>0.10</td>\n",
       "      <td>1200.0</td>\n",
       "      <td>10000</td>\n",
       "    </tr>\n",
       "    <tr>\n",
       "      <th>0</th>\n",
       "      <td>0.01</td>\n",
       "      <td>0.0</td>\n",
       "      <td>100000</td>\n",
       "    </tr>\n",
       "    <tr>\n",
       "      <th>4</th>\n",
       "      <td>0.50</td>\n",
       "      <td>0.0</td>\n",
       "      <td>100000</td>\n",
       "    </tr>\n",
       "    <tr>\n",
       "      <th>9</th>\n",
       "      <td>9.00</td>\n",
       "      <td>-8.5</td>\n",
       "      <td>1</td>\n",
       "    </tr>\n",
       "    <tr>\n",
       "      <th>8</th>\n",
       "      <td>5.00</td>\n",
       "      <td>-36.0</td>\n",
       "      <td>10</td>\n",
       "    </tr>\n",
       "    <tr>\n",
       "      <th>7</th>\n",
       "      <td>2.00</td>\n",
       "      <td>-105.0</td>\n",
       "      <td>100</td>\n",
       "    </tr>\n",
       "    <tr>\n",
       "      <th>6</th>\n",
       "      <td>1.00</td>\n",
       "      <td>-300.0</td>\n",
       "      <td>1000</td>\n",
       "    </tr>\n",
       "    <tr>\n",
       "      <th>5</th>\n",
       "      <td>0.75</td>\n",
       "      <td>-750.0</td>\n",
       "      <td>10000</td>\n",
       "    </tr>\n",
       "  </tbody>\n",
       "</table>\n",
       "</div>"
      ],
      "text/plain": [
       "   bid price   revenue  total events\n",
       "2       0.20  600000.0      10000000\n",
       "3       0.40   30000.0       1000000\n",
       "1       0.10    1200.0         10000\n",
       "0       0.01       0.0        100000\n",
       "4       0.50       0.0        100000\n",
       "9       9.00      -8.5             1\n",
       "8       5.00     -36.0            10\n",
       "7       2.00    -105.0           100\n",
       "6       1.00    -300.0          1000\n",
       "5       0.75    -750.0         10000"
      ]
     },
     "execution_count": 8,
     "metadata": {},
     "output_type": "execute_result"
    }
   ],
   "source": [
    "\n",
    "result\n"
   ]
  },
  {
   "cell_type": "markdown",
   "id": "3291be14-4f90-4876-af7e-c20aa101bd3c",
   "metadata": {},
   "source": []
  }
 ],
 "metadata": {
  "kernelspec": {
   "display_name": "Python 3 (ipykernel)",
   "language": "python",
   "name": "python3"
  },
  "language_info": {
   "codemirror_mode": {
    "name": "ipython",
    "version": 3
   },
   "file_extension": ".py",
   "mimetype": "text/x-python",
   "name": "python",
   "nbconvert_exporter": "python",
   "pygments_lexer": "ipython3",
   "version": "3.12.4"
  }
 },
 "nbformat": 4,
 "nbformat_minor": 5
}
