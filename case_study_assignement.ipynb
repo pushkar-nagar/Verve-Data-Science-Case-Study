{
 "cells": [
  {
   "cell_type": "code",
   "execution_count": 25,
   "id": "77bfd2a0-a46b-4ea8-b0aa-c13316eff792",
   "metadata": {},
   "outputs": [],
   "source": [
    "import pandas as pd\n",
    "from collections import defaultdict"
   ]
  },
  {
   "cell_type": "code",
   "execution_count": 96,
   "id": "7c6b728c-e410-4801-9433-bb67da6e5fc6",
   "metadata": {},
   "outputs": [],
   "source": [
    "data = pd.read_csv('dataset.csv', names=['number'], header=None)"
   ]
  },
  {
   "cell_type": "code",
   "execution_count": 97,
   "id": "ca6e958b-0681-42d3-8b1c-320ecfe52d45",
   "metadata": {},
   "outputs": [
    {
     "name": "stdout",
     "output_type": "stream",
     "text": [
      "200\n"
     ]
    }
   ],
   "source": [
    "print(len(data))\n",
    "data = data['number'].tolist()\n"
   ]
  },
  {
   "cell_type": "markdown",
   "id": "0c6d06c9-bede-47f4-b47c-e09187f8fe99",
   "metadata": {},
   "source": [
    "### Two Sum Solution Approach :\n",
    "- Use hashmap to store each value. To create hashmap we will use dictionary\n",
    "- For each value present in data, we will find difference of value and 2020 in hashmap, if difference is present in hashmap then \\\n",
    "it means we have found a pair whose sum is 2020."
   ]
  },
  {
   "cell_type": "code",
   "execution_count": 99,
   "id": "27bf5d23-9ef1-460f-bbe7-dd0c962d3b9b",
   "metadata": {},
   "outputs": [
    {
     "name": "stdout",
     "output_type": "stream",
     "text": [
      "Two numbers are:  775 1245\n",
      "Answer:  964875\n"
     ]
    }
   ],
   "source": [
    "def two_sum(data, total_sum = 2020):\n",
    "\n",
    "    # creata hashmap for data using dictionary\n",
    "    hashmap = defaultdict(int)\n",
    "    for num in data:\n",
    "        hashmap[num] = 1\n",
    "\n",
    "    # num1 and num2 will store two numbers whose sum will be equal to 2020\n",
    "    num1 = -1\n",
    "    num2 = -1\n",
    "    for num in data:\n",
    "        val = abs(total_sum - num)\n",
    "        if hashmap[val] == 1:\n",
    "            num1 = val\n",
    "            num2 = num\n",
    "            break\n",
    "\n",
    "    print(\"Two numbers are: \", num1, num2)\n",
    "    return num1 * num2\n",
    "\n",
    "\n",
    "# call two_sum function to get final answer.\n",
    "print(\"Answer: \", two_sum(data))\n",
    "            \n"
   ]
  },
  {
   "cell_type": "markdown",
   "id": "e63b8ee2-b107-4f3e-9323-06dbfcb2ad3f",
   "metadata": {},
   "source": [
    "### Three Sum Solution Approach :\n",
    "- sort the values present in data\n",
    "- for each value we will find a pair such that sum of value and pair will be 2020. To find the pair we will use two pointer approach."
   ]
  },
  {
   "cell_type": "code",
   "execution_count": 103,
   "id": "207ff73c-7da3-4809-985e-8821a5ac3d25",
   "metadata": {},
   "outputs": [
    {
     "name": "stdout",
     "output_type": "stream",
     "text": [
      "Three numbers are :  715 1104 201 2020\n",
      "Answer:  158661360\n"
     ]
    }
   ],
   "source": [
    "def three_sum(data, total_sum = 2020):\n",
    "\n",
    "    data = sorted(data)\n",
    "    i,j = 0, 0\n",
    "    k = len(data) - 1\n",
    "    n = len(data) - 1\n",
    "    result = list()\n",
    "    while i < n:\n",
    "        j = i + 1\n",
    "        k = n\n",
    "        while j < k and j > i:\n",
    "            if data[i] + data[j] + data[k] == total_sum:\n",
    "                result.append([data[i], data[j], data[k]])\n",
    "                break\n",
    "                j += 1\n",
    "                k -= 1\n",
    "            elif data[i] + data[j] + data[k] > total_sum:\n",
    "                k -= 1\n",
    "            else:\n",
    "                j += 1\n",
    "\n",
    "        i += 1\n",
    "\n",
    "    print(\"Three numbers are : \", result[0][1], result[0][2], result[0][0], (result[0][1] + result[0][2] + result[0][0]))\n",
    "    return result[0][0] * result[0][1] * result[0][2]\n",
    "        \n",
    "    \n",
    "# call three_sum function to get final answer.\n",
    "print(\"Answer: \", three_sum(data))"
   ]
  },
  {
   "cell_type": "code",
   "execution_count": null,
   "id": "b37cc4e0-2a5b-4519-9ac9-92096ad6f935",
   "metadata": {},
   "outputs": [],
   "source": []
  }
 ],
 "metadata": {
  "kernelspec": {
   "display_name": "Python 3 (ipykernel)",
   "language": "python",
   "name": "python3"
  },
  "language_info": {
   "codemirror_mode": {
    "name": "ipython",
    "version": 3
   },
   "file_extension": ".py",
   "mimetype": "text/x-python",
   "name": "python",
   "nbconvert_exporter": "python",
   "pygments_lexer": "ipython3",
   "version": "3.12.4"
  }
 },
 "nbformat": 4,
 "nbformat_minor": 5
}
